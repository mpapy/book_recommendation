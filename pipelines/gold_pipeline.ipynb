{
 "cells": [
  {
   "cell_type": "code",
   "execution_count": 0,
   "metadata": {
    "application/vnd.databricks.v1+cell": {
     "cellMetadata": {
      "byteLimit": 2048000,
      "rowLimit": 10000
     },
     "inputWidgets": {},
     "nuid": "655869be-72f3-4f16-a733-07cbe9678771",
     "showTitle": false,
     "tableResultSettingsMap": {},
     "title": ""
    }
   },
   "outputs": [],
   "source": [
    "# ——————————————————————————————\n",
    "#  ENVIRONMENT CONFIGURATION\n",
    "# ——————————————————————————————\n",
    "#env = dbutils.widgets.get(\"pipeline.env\")\n",
    "print(f\"Simple Gold Analytics for environment: {env}\")\n",
    "catalog = \"book_rec_catalog\"\n",
    "silver_schema = f\"{env}_silver\"\n",
    "gold_schema = f\"{env}_gold\"\n",
    "\n",
    "spark.sql(f\"USE CATALOG {catalog}\")\n",
    "spark.sql(f\"USE SCHEMA {gold_schema}\")\n",
    "\n",
    "print(f\"Catalog: {catalog}\")\n",
    "print(f\"Silver Schema: {silver_schema}\")\n",
    "print(f\"Gold Schema: {gold_schema}\")"
   ]
  },
  {
   "cell_type": "markdown",
   "metadata": {},
   "source": [
    "Top 10 books"
   ]
  },
  {
   "cell_type": "code",
   "execution_count": 0,
   "metadata": {
    "application/vnd.databricks.v1+cell": {
     "cellMetadata": {
      "byteLimit": 2048000,
      "rowLimit": 10000
     },
     "inputWidgets": {},
     "nuid": "a65eb76f-8aed-4b44-be1c-b6abde6f1989",
     "showTitle": false,
     "tableResultSettingsMap": {},
     "title": ""
    }
   },
   "outputs": [],
   "source": [
    "spark.sql(f\"\"\"\n",
    "CREATE OR REPLACE VIEW {catalog}.{gold_schema}.v_top_10_books AS\n",
    "SELECT \n",
    "    b.`Book-Title`,\n",
    "    b.`Book-Author`, \n",
    "    b.`Publisher`,\n",
    "    b.`Year-Of-Publication`,\n",
    "    COUNT(r.`Book-Rating`) as total_ratings,\n",
    "    AVG(r.`Book-Rating`) as avg_rating,\n",
    "    COUNT(r.`Book-Rating`) * AVG(r.`Book-Rating`) as popularity_score\n",
    "FROM {catalog}.{silver_schema}.books_silver_batch b\n",
    "JOIN {catalog}.{silver_schema}.ratings_silver_batch r ON b.ISBN = r.ISBN\n",
    "WHERE r.`Book-Rating` IS NOT NULL\n",
    "GROUP BY b.`Book-Title`, b.`Book-Author`, b.`Publisher`, b.`Year-Of-Publication`\n",
    "HAVING COUNT(r.`Book-Rating`) >= 5\n",
    "ORDER BY popularity_score DESC\n",
    "LIMIT 10\n",
    "\"\"\")\n",
    "\n",
    "print(\"View v_top_10_books created successfully!\")"
   ]
  },
  {
   "cell_type": "markdown",
   "metadata": {},
   "source": [
    "Top 10 authors"
   ]
  },
  {
   "cell_type": "code",
   "execution_count": 0,
   "metadata": {
    "application/vnd.databricks.v1+cell": {
     "cellMetadata": {
      "byteLimit": 2048000,
      "rowLimit": 10000
     },
     "inputWidgets": {},
     "nuid": "d751b63a-912b-4b6b-ac62-1837baa4948e",
     "showTitle": false,
     "tableResultSettingsMap": {},
     "title": ""
    }
   },
   "outputs": [],
   "source": [
    "spark.sql(f\"\"\"\n",
    "CREATE OR REPLACE VIEW {catalog}.{gold_schema}.v_top_10_authors AS\n",
    "SELECT \n",
    "    b.`Book-Author`,\n",
    "    COUNT(r.`Book-Rating`) as total_ratings,\n",
    "    AVG(r.`Book-Rating`) as avg_rating,\n",
    "    COUNT(DISTINCT b.ISBN) as books_count\n",
    "FROM {catalog}.{silver_schema}.books_silver_batch b\n",
    "JOIN {catalog}.{silver_schema}.ratings_silver_batch r ON b.ISBN = r.ISBN\n",
    "WHERE r.`Book-Rating` IS NOT NULL\n",
    "GROUP BY b.`Book-Author`\n",
    "HAVING COUNT(r.`Book-Rating`) >= 10\n",
    "ORDER BY avg_rating DESC\n",
    "LIMIT 10\n",
    "\"\"\")"
   ]
  },
  {
   "cell_type": "markdown",
   "metadata": {},
   "source": [
    "Top authors by year"
   ]
  },
  {
   "cell_type": "code",
   "execution_count": 0,
   "metadata": {
    "application/vnd.databricks.v1+cell": {
     "cellMetadata": {
      "byteLimit": 2048000,
      "rowLimit": 10000
     },
     "inputWidgets": {},
     "nuid": "339d67bf-1249-414a-97c7-dd42316373bc",
     "showTitle": false,
     "tableResultSettingsMap": {},
     "title": ""
    }
   },
   "outputs": [],
   "source": [
    "spark.sql(f\"\"\"\n",
    "CREATE OR REPLACE VIEW {catalog}.{gold_schema}.v_authors_by_year AS\n",
    "SELECT\n",
    "  b.`Year-Of-Publication`,\n",
    "  b.`Book-Author`,\n",
    "  b.`Publisher`,\n",
    "  COUNT(r.`Book-Rating`) as total_ratings,\n",
    "  AVG(r.`Book-Rating`) as avg_rating,\n",
    "  COUNT(DISTINCT b.ISBN) as books_count\n",
    "FROM\n",
    "  book_rec_catalog.dev_silver.books_silver_batch b\n",
    "    JOIN book_rec_catalog.dev_silver.ratings_silver_batch r\n",
    "      ON b.ISBN = r.ISBN\n",
    "WHERE\n",
    "  r.`Book-Rating` IS NOT NULL\n",
    "  AND b.`Year-Of-Publication` >= 2014\n",
    "  AND b.`Year-Of-Publication` <= 2024\n",
    "GROUP BY\n",
    "  b.`Year-Of-Publication`,\n",
    "  b.`Book-Author`,\n",
    "  b.`Publisher`\n",
    "HAVING\n",
    "  COUNT(r.`Book-Rating`) >= 3\n",
    "ORDER BY\n",
    "  avg_rating DESC\n",
    "LIMIT 10\n",
    "\"\"\")\n",
    "\n",
    "print(\"View v_top_authors_by_year created successfully!\")"
   ]
  }
 ],
 "metadata": {
  "application/vnd.databricks.v1+notebook": {
   "computePreferences": {
    "hardware": {
     "accelerator": null,
     "gpuPoolId": null,
     "memory": null
    }
   },
   "dashboards": [],
   "environmentMetadata": {
    "base_environment": "",
    "environment_version": "2"
   },
   "inputWidgetPreferences": null,
   "language": "python",
   "notebookMetadata": {
    "pythonIndentUnit": 4
   },
   "notebookName": "gold_pipeline",
   "widgets": {}
  },
  "language_info": {
   "name": "python"
  }
 },
 "nbformat": 4,
 "nbformat_minor": 0
}
