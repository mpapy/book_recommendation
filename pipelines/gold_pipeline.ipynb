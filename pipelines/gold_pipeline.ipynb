{
 "cells": [
  {
   "cell_type": "code",
   "execution_count": 0,
   "metadata": {
    "application/vnd.databricks.v1+cell": {
     "cellMetadata": {
      "byteLimit": 2048000,
      "rowLimit": 10000
     },
     "inputWidgets": {},
     "nuid": "655869be-72f3-4f16-a733-07cbe9678771",
     "showTitle": false,
     "tableResultSettingsMap": {},
     "title": ""
    }
   },
   "outputs": [],
   "source": [
    "# ——————————————————————————————\n",
    "#  ENVIRONMENT CONFIGURATION\n",
    "# ——————————————————————————————\n",
    "dbutils.widgets.text(\"pipeline.env\", \"dev\")\n",
    "env = dbutils.widgets.get(\"pipeline.env\")\n",
    "catalog = \"book_rec_catalog\"\n",
    "silver_schema = f\"{env}_silver\"\n",
    "gold_schema = f\"{env}_gold\"\n",
    "\n",
    "spark.sql(f\"USE CATALOG {catalog}\")\n",
    "spark.sql(f\"USE SCHEMA {gold_schema}\")\n",
    "\n",
    "print(f\"Catalog: {catalog}\")\n",
    "print(f\"Silver Schema: {silver_schema}\")\n",
    "print(f\"Gold Schema: {gold_schema}\")"
   ]
  },
  {
   "cell_type": "markdown",
   "metadata": {
    "application/vnd.databricks.v1+cell": {
     "cellMetadata": {
      "byteLimit": 2048000,
      "rowLimit": 10000
     },
     "inputWidgets": {},
     "nuid": "630a853b-ca73-4d16-b6fe-9be5bf0e0fd7",
     "showTitle": false,
     "tableResultSettingsMap": {},
     "title": ""
    }
   },
   "source": [
    "Top 10 books"
   ]
  },
  {
   "cell_type": "code",
   "execution_count": 0,
   "metadata": {
    "application/vnd.databricks.v1+cell": {
     "cellMetadata": {
      "byteLimit": 2048000,
      "rowLimit": 10000
     },
     "inputWidgets": {},
     "nuid": "a65eb76f-8aed-4b44-be1c-b6abde6f1989",
     "showTitle": false,
     "tableResultSettingsMap": {},
     "title": ""
    }
   },
   "outputs": [],
   "source": [
    "# I want to create a view that will show top 10 books by popularity score\n",
    "spark.sql(f\"\"\"\n",
    "CREATE OR REPLACE VIEW {catalog}.{gold_schema}.v_top_10_books_ever AS\n",
    "SELECT \n",
    "    b.`Book-Title`,\n",
    "    b.`Book-Author`,\n",
    "    b.`Publisher`,\n",
    "    b.`Year-Of-Publication`,\n",
    "    COUNT(*)                                      AS total_ratings,\n",
    "    AVG(CAST(r.`Book-Rating` AS DOUBLE))          AS avg_rating,\n",
    "    SUM(CAST(r.`Book-Rating` AS DOUBLE))          AS popularity_score\n",
    "FROM {catalog}.{silver_schema}.books_silver_batch b\n",
    "JOIN {catalog}.{silver_schema}.ratings_silver_batch r \n",
    "  ON b.ISBN = r.ISBN\n",
    "WHERE r.`Book-Rating` > 0\n",
    "GROUP BY b.`Book-Title`, b.`Book-Author`, b.`Publisher`, b.`Year-Of-Publication`\n",
    "HAVING COUNT(*) >= 5\n",
    "ORDER BY popularity_score DESC, avg_rating DESC, total_ratings DESC, b.`Book-Title`\n",
    "LIMIT 10;\n",
    "\"\"\")\n",
    "\n",
    "print(\"View v_top_10_books created successfully!\")"
   ]
  },
  {
   "cell_type": "markdown",
   "metadata": {
    "application/vnd.databricks.v1+cell": {
     "cellMetadata": {
      "byteLimit": 2048000,
      "rowLimit": 10000
     },
     "inputWidgets": {},
     "nuid": "b7a285e9-6b6d-4e44-97b7-435533ab3ad4",
     "showTitle": false,
     "tableResultSettingsMap": {},
     "title": ""
    }
   },
   "source": [
    "Top 10 authors"
   ]
  },
  {
   "cell_type": "code",
   "execution_count": 0,
   "metadata": {
    "application/vnd.databricks.v1+cell": {
     "cellMetadata": {
      "byteLimit": 2048000,
      "rowLimit": 10000
     },
     "inputWidgets": {},
     "nuid": "d751b63a-912b-4b6b-ac62-1837baa4948e",
     "showTitle": false,
     "tableResultSettingsMap": {},
     "title": ""
    }
   },
   "outputs": [],
   "source": [
    "# I want to create a view that will show top 10 authors by popularity score and average rating\n",
    "spark.sql(f\"\"\"\n",
    "CREATE OR REPLACE VIEW {catalog}.{gold_schema}.v_top_10_authors AS\n",
    "WITH base AS (\n",
    "  SELECT\n",
    "    b.`Book-Author` AS author,\n",
    "    b.ISBN          AS isbn,\n",
    "    r.`User-ID`     AS user_id,\n",
    "    CAST(r.`Book-Rating` AS DOUBLE) AS rating\n",
    "  FROM {catalog}.{silver_schema}.books_silver_batch b\n",
    "  JOIN {catalog}.{silver_schema}.ratings_silver_batch r\n",
    "    ON b.ISBN = r.ISBN\n",
    "  WHERE r.`Book-Rating` > 0\n",
    "),\n",
    "dedup AS (  -- If same user did multiple ratings, take average\n",
    "  SELECT author, isbn, user_id, AVG(rating) AS rating\n",
    "  FROM base\n",
    "  GROUP BY author, isbn, user_id\n",
    ")\n",
    "SELECT\n",
    "  author,\n",
    "  COUNT(*)                    AS total_ratings,\n",
    "  COUNT(DISTINCT user_id)     AS users_count,\n",
    "  COUNT(DISTINCT isbn)        AS books_count,\n",
    "  AVG(rating)                 AS avg_rating,\n",
    "  SUM(rating)                 AS popularity_score\n",
    "FROM dedup\n",
    "GROUP BY author\n",
    "HAVING COUNT(*) >= 10 AND COUNT(DISTINCT user_id) >= 10 -- Minimum 10 ratings and 10 users to be fair to the author\n",
    "ORDER BY avg_rating DESC, total_ratings DESC, books_count DESC, author\n",
    "LIMIT 10;\n",
    "\n",
    "\"\"\")"
   ]
  },
  {
   "cell_type": "markdown",
   "metadata": {
    "application/vnd.databricks.v1+cell": {
     "cellMetadata": {
      "byteLimit": 2048000,
      "rowLimit": 10000
     },
     "inputWidgets": {},
     "nuid": "219d81eb-b4dd-4df8-924e-b2dfe3c7ac5f",
     "showTitle": false,
     "tableResultSettingsMap": {},
     "title": ""
    }
   },
   "source": [
    "Top authors by year"
   ]
  },
  {
   "cell_type": "code",
   "execution_count": 0,
   "metadata": {
    "application/vnd.databricks.v1+cell": {
     "cellMetadata": {
      "byteLimit": 2048000,
      "rowLimit": 10000
     },
     "inputWidgets": {},
     "nuid": "339d67bf-1249-414a-97c7-dd42316373bc",
     "showTitle": false,
     "tableResultSettingsMap": {},
     "title": ""
    }
   },
   "outputs": [],
   "source": [
    "# I want to create a view that will show top authors by year of publication\n",
    "spark.sql(f\"\"\"\n",
    "CREATE OR REPLACE VIEW {catalog}.{gold_schema}.v_authors_top10_by_year AS\n",
    "WITH base AS (\n",
    "  SELECT\n",
    "    CAST(b.`Year-Of-Publication` AS INT) AS year_pub,\n",
    "    TRIM(b.`Book-Author`)                AS author,\n",
    "    b.ISBN                               AS isbn,\n",
    "    r.`User-ID`                          AS user_id,\n",
    "    CAST(r.`Book-Rating` AS DOUBLE)      AS rating\n",
    "  FROM {catalog}.{silver_schema}.books_silver_batch b\n",
    "  JOIN {catalog}.{silver_schema}.ratings_silver_batch r ON b.ISBN = r.ISBN\n",
    "  WHERE r.`Book-Rating` > 0\n",
    "    AND CAST(b.`Year-Of-Publication` AS INT) BETWEEN 1990 AND 2024\n",
    "),\n",
    "dedup AS (  -- 1 user × 1 book = 1 vote\n",
    "  SELECT year_pub, author, isbn, user_id, AVG(rating) AS rating\n",
    "  FROM base\n",
    "  GROUP BY year_pub, author, isbn, user_id\n",
    "),\n",
    "agg AS (\n",
    "  SELECT\n",
    "    year_pub,\n",
    "    author,\n",
    "    COUNT(*)                AS total_ratings,\n",
    "    COUNT(DISTINCT user_id) AS users_count,\n",
    "    COUNT(DISTINCT isbn)    AS books_count,\n",
    "    AVG(rating)             AS avg_rating\n",
    "  FROM dedup\n",
    "  GROUP BY year_pub, author\n",
    "  HAVING COUNT(*) >= 10 AND users_count >= 10 AND books_count >= 2\n",
    "),\n",
    "ranked AS (\n",
    "  SELECT *,\n",
    "         ROW_NUMBER() OVER (\n",
    "           PARTITION BY year_pub\n",
    "           ORDER BY avg_rating DESC, total_ratings DESC, books_count DESC, author\n",
    "         ) AS rn\n",
    "  FROM agg\n",
    ")\n",
    "SELECT year_pub AS `Year-Of-Publication`,\n",
    "       author   AS `Book-Author`,\n",
    "       total_ratings, users_count, books_count, avg_rating\n",
    "FROM ranked\n",
    "WHERE rn <= 10\n",
    "ORDER BY year_pub DESC, rn ASC;\n",
    "\n",
    "\"\"\")\n",
    "\n",
    "print(\"View v_top_authors_by_year created successfully!\")"
   ]
  }
 ],
 "metadata": {
  "application/vnd.databricks.v1+notebook": {
   "computePreferences": {
    "hardware": {
     "accelerator": null,
     "gpuPoolId": null,
     "memory": null
    }
   },
   "dashboards": [],
   "environmentMetadata": {
    "base_environment": "",
    "environment_version": "2"
   },
   "inputWidgetPreferences": null,
   "language": "python",
   "notebookMetadata": {
    "pythonIndentUnit": 4
   },
   "notebookName": "gold_pipeline",
   "widgets": {}
  },
  "language_info": {
   "name": "python"
  }
 },
 "nbformat": 4,
 "nbformat_minor": 0
}
