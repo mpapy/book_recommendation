{
 "cells": [
  {
   "cell_type": "code",
   "execution_count": 0,
   "metadata": {
    "application/vnd.databricks.v1+cell": {
     "cellMetadata": {
      "byteLimit": 2048000,
      "rowLimit": 10000
     },
     "inputWidgets": {},
     "nuid": "1d07adb4-56cd-4010-8c51-5ad7a1886055",
     "showTitle": false,
     "tableResultSettingsMap": {},
     "title": ""
    }
   },
   "outputs": [],
   "source": [
    "# ——————————————————————————————\n",
    "#  LIBRARIES\n",
    "# ——————————————————————————————    \n",
    "from pyspark.sql.functions import *\n",
    "from pyspark.sql.types import *"
   ]
  },
  {
   "cell_type": "code",
   "execution_count": 0,
   "metadata": {
    "application/vnd.databricks.v1+cell": {
     "cellMetadata": {
      "byteLimit": 2048000,
      "rowLimit": 10000
     },
     "inputWidgets": {},
     "nuid": "a34a7bde-e2d6-424b-bad4-51e8376d5015",
     "showTitle": false,
     "tableResultSettingsMap": {},
     "title": ""
    }
   },
   "outputs": [],
   "source": [
    "# ——————————————————————————————\n",
    "#  ENVIRONMENT CONFIGURATION\n",
    "# ——————————————————————————————\n",
    "dbutils.widgets.text(\"pipeline.env\", \"dev\") # Create widget with default value - tasks need to have widgets\n",
    "env = dbutils.widgets.get(\"pipeline.env\")\n",
    "\n",
    "catalog = \"book_rec_catalog\"\n",
    "bronze_schema = f\"{env}_bronze\"\n",
    "silver_schema = f\"{env}_silver\"\n",
    "spark.sql(f\"USE CATALOG {catalog}\")\n",
    "spark.sql(f\"USE SCHEMA {silver_schema}\")"
   ]
  },
  {
   "cell_type": "code",
   "execution_count": 0,
   "metadata": {
    "application/vnd.databricks.v1+cell": {
     "cellMetadata": {
      "byteLimit": 2048000,
      "rowLimit": 10000
     },
     "inputWidgets": {},
     "nuid": "a5107b96-5f95-44eb-8022-617f241c757e",
     "showTitle": false,
     "tableResultSettingsMap": {},
     "title": ""
    }
   },
   "outputs": [],
   "source": [
    "# ————————————————————————————————————————————————\n",
    "# FINAL NON-STREAMING TABULKY PRO STREAMING\n",
    "# ————————————————————————————————————————————————\n",
    "\n",
    "def promote_to_batch_table(table_name: str):\n",
    "    \"\"\"\n",
    "    The function is used to promote the silver tables to classic delta tables without DLT.\n",
    "    It is used to use column masking and row filtering.\n",
    "    \"\"\"\n",
    "    source_path = f\"{catalog}.{silver_schema}.{table_name}\"\n",
    "    target_path = f\"{catalog}.{silver_schema}.{table_name}_batch\"\n",
    "    \n",
    "    print(f\"Promoting {source_path} to {target_path}\")\n",
    "    \n",
    "    try:\n",
    "        (\n",
    "            spark.read.table(source_path)\n",
    "                 .write\n",
    "                 .mode('overwrite')\n",
    "                 .option('overwriteSchema', 'true')\n",
    "                 .saveAsTable(target_path)\n",
    "        )\n",
    "        print(f\"Successfully promoted {table_name} to {table_name}_batch\")\n",
    "    except Exception as e:\n",
    "        print(f\"Error promoting {table_name}: {str(e)}\")\n",
    "\n",
    "# list of tables to promote\n",
    "tables_to_promote = [\n",
    "    'books_silver',\n",
    "    'ratings_silver', \n",
    "    'users_silver'\n",
    "]\n",
    "\n",
    "print(f\"Starting promotion of {len(tables_to_promote)} tables...\")\n",
    "print(\"=\" * 60)\n",
    "\n",
    "for table in tables_to_promote:\n",
    "    promote_to_batch_table(table)\n",
    "\n",
    "print(\"=\" * 60)\n",
    "print(\"Promotion completed!\")"
   ]
  }
 ],
 "metadata": {
  "application/vnd.databricks.v1+notebook": {
   "computePreferences": null,
   "dashboards": [],
   "environmentMetadata": {
    "base_environment": "",
    "environment_version": "2"
   },
   "inputWidgetPreferences": null,
   "language": "python",
   "notebookMetadata": {
    "pythonIndentUnit": 4
   },
   "notebookName": "promote_silver",
   "widgets": {}
  },
  "language_info": {
   "name": "python"
  }
 },
 "nbformat": 4,
 "nbformat_minor": 0
}
