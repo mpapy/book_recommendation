{
 "cells": [
  {
   "cell_type": "markdown",
   "metadata": {
    "application/vnd.databricks.v1+cell": {
     "cellMetadata": {},
     "inputWidgets": {},
     "nuid": "9ccdcd48-97a9-4d1a-8fc9-522c627ff3e2",
     "showTitle": false,
     "tableResultSettingsMap": {},
     "title": ""
    }
   },
   "source": [
    "import"
   ]
  },
  {
   "cell_type": "code",
   "execution_count": 0,
   "metadata": {
    "application/vnd.databricks.v1+cell": {
     "cellMetadata": {},
     "inputWidgets": {},
     "nuid": "655a3738-d6a2-46f2-a98a-18dc0ad54cc2",
     "showTitle": false,
     "tableResultSettingsMap": {},
     "title": ""
    }
   },
   "outputs": [],
   "source": [
    "import dlt\n",
    "from pyspark.sql.functions import current_timestamp, col\n",
    "from pyspark.sql.types import StringType, IntegerType"
   ]
  },
  {
   "cell_type": "markdown",
   "metadata": {
    "application/vnd.databricks.v1+cell": {
     "cellMetadata": {},
     "inputWidgets": {},
     "nuid": "09ec647d-509d-4ed0-82f4-ff3363701ca1",
     "showTitle": false,
     "tableResultSettingsMap": {},
     "title": ""
    }
   },
   "source": [
    "Environemnt"
   ]
  },
  {
   "cell_type": "code",
   "execution_count": 0,
   "metadata": {
    "application/vnd.databricks.v1+cell": {
     "cellMetadata": {},
     "inputWidgets": {},
     "nuid": "dc05ac7b-db71-4e0a-b26f-71891e314b92",
     "showTitle": false,
     "tableResultSettingsMap": {},
     "title": ""
    }
   },
   "outputs": [],
   "source": [
    "# Dostanu DEV nebo PROD\n",
    "env = spark.conf.get(\"pipeline.env\") or \"dev\"  # Default to dev if not set\n",
    "catalog = \"book_rec_catalog\"\n",
    "bronze_schema = f\"{env}_bronze\""
   ]
  },
  {
   "cell_type": "markdown",
   "metadata": {
    "application/vnd.databricks.v1+cell": {
     "cellMetadata": {},
     "inputWidgets": {},
     "nuid": "11351654-1392-4ad9-acda-279c5a14f5d2",
     "showTitle": false,
     "tableResultSettingsMap": {},
     "title": ""
    }
   },
   "source": [
    "Ingestion from volume to bronze"
   ]
  },
  {
   "cell_type": "code",
   "execution_count": 0,
   "metadata": {
    "application/vnd.databricks.v1+cell": {
     "cellMetadata": {},
     "inputWidgets": {},
     "nuid": "ee0adfb8-6d5a-4c9d-b8ed-81b9406dc8d9",
     "showTitle": false,
     "tableResultSettingsMap": {},
     "title": ""
    }
   },
   "outputs": [],
   "source": [
    "# Tabulka pro knihy (Books)\n",
    "@dlt.table(name=f\"{bronze_schema}.books_bronze\", comment=\"Bronze table for raw Books data\")\n",
    "def books_bronze():\n",
    "    path = f\"/Volumes/{catalog}/landing/book_files\"\n",
    "    \n",
    "    return (spark.readStream\n",
    "            .format(\"cloudFiles\")\n",
    "            .option(\"cloudFiles.format\", \"csv\")\n",
    "            .option(\"header\", \"true\")\n",
    "            .option(\"multiLine\", True)\n",
    "            .option(\"quote\", '\"')\n",
    "            .option(\"escape\", '\"')\n",
    "            .option(\"pathGlobFilter\", \"Books.csv\")\n",
    "            .load(path)\n",
    "            .select(\"*\", col(\"_metadata.file_path\").alias(\"source_file\"))\n",
    "            .withColumn(\"ingestion_ts\", current_timestamp())\n",
    "    )\n",
    "\n",
    "# Tabulka pro hodnocení (Ratings)\n",
    "@dlt.table(name=f\"{bronze_schema}.ratings_bronze\", comment=\"Bronze table for raw Ratings data\")\n",
    "def ratings_bronze():\n",
    "    path = f\"/Volumes/{catalog}/landing/book_files\"\n",
    "    \n",
    "    return (spark.readStream\n",
    "            .format(\"cloudFiles\")\n",
    "            .option(\"cloudFiles.format\", \"csv\")\n",
    "            .option(\"header\", \"true\")\n",
    "            .option(\"multiLine\", True)\n",
    "            .option(\"quote\", '\"')\n",
    "            .option(\"escape\", '\"')\n",
    "            .option(\"pathGlobFilter\", \"Ratings.csv\")\n",
    "            .load(path)\n",
    "            .select(\"*\", col(\"_metadata.file_path\").alias(\"source_file\"))\n",
    "            .withColumn(\"ingestion_ts\", current_timestamp())\n",
    "            )\n",
    "\n",
    "# Tabulka pro uživatele (Users)\n",
    "@dlt.table(name=f\"{bronze_schema}.users_bronze\", comment=\"Bronze table for raw Users data\")\n",
    "def users_bronze():\n",
    "    path = f\"/Volumes/{catalog}/landing/book_files\"\n",
    "    \n",
    "    return (spark.readStream\n",
    "            .format(\"cloudFiles\")\n",
    "            .option(\"cloudFiles.format\", \"csv\")\n",
    "            .option(\"header\", \"true\")\n",
    "            .option(\"multiLine\", True)\n",
    "            .option(\"quote\", '\"')\n",
    "            .option(\"escape\", '\"')\n",
    "            .option(\"pathGlobFilter\", \"Users.csv\")\n",
    "            .load(path)\n",
    "            .select(\"*\", col(\"_metadata.file_path\").alias(\"source_file\"))\n",
    "            .withColumn(\"ingestion_ts\", current_timestamp())\n",
    "            )\n"
   ]
  }
 ],
 "metadata": {
  "application/vnd.databricks.v1+notebook": {
   "computePreferences": {
    "hardware": {
     "accelerator": null,
     "gpuPoolId": null,
     "memory": null
    }
   },
   "dashboards": [],
   "environmentMetadata": {
    "base_environment": "",
    "environment_version": "2"
   },
   "inputWidgetPreferences": null,
   "language": "python",
   "notebookMetadata": {
    "pythonIndentUnit": 4
   },
   "notebookName": "bronze_pipeline",
   "widgets": {}
  },
  "language_info": {
   "name": "python"
  }
 },
 "nbformat": 4,
 "nbformat_minor": 0
}
