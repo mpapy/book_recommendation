{
 "cells": [
  {
   "cell_type": "markdown",
   "metadata": {
    "application/vnd.databricks.v1+cell": {
     "cellMetadata": {},
     "inputWidgets": {},
     "nuid": "b8964dd7-e2ca-404a-a3b6-3800119e95b0",
     "showTitle": false,
     "tableResultSettingsMap": {},
     "title": ""
    }
   },
   "source": [
    "Environment"
   ]
  },
  {
   "cell_type": "code",
   "execution_count": null,
   "metadata": {},
   "outputs": [],
   "source": [
    "# ——————————————————————————————\n",
    "#  LIBRARIES\n",
    "# ——————————————————————————————   \n",
    "from pyspark.sql.functions import *\n",
    "from pyspark.sql.types import *\n",
    "import dlt"
   ]
  },
  {
   "cell_type": "code",
   "execution_count": 0,
   "metadata": {
    "application/vnd.databricks.v1+cell": {
     "cellMetadata": {},
     "inputWidgets": {},
     "nuid": "9899488b-b634-4702-b937-356b704679a2",
     "showTitle": false,
     "tableResultSettingsMap": {},
     "title": ""
    }
   },
   "outputs": [],
   "source": [
    "# ——————————————————————————————\n",
    "#  ENVIRONMENT CONFIGURATION\n",
    "# ——————————————————————————————\n",
    "\n",
    "try:\n",
    "    env = spark.conf.get(\"pipeline.env\")\n",
    "except:\n",
    "    env = \"dev\"\n",
    "catalog = \"book_rec_catalog\"\n",
    "\n",
    "# Schema names\n",
    "bronze_schema = f\"{env}_bronze\"\n",
    "silver_schema = f\"{env}_silver\""
   ]
  },
  {
   "cell_type": "markdown",
   "metadata": {
    "application/vnd.databricks.v1+cell": {
     "cellMetadata": {},
     "inputWidgets": {},
     "nuid": "70271c7d-b348-457e-92b0-447946b184b4",
     "showTitle": false,
     "tableResultSettingsMap": {},
     "title": ""
    }
   },
   "source": [
    "Silver layer"
   ]
  },
  {
   "cell_type": "code",
   "execution_count": 0,
   "metadata": {
    "application/vnd.databricks.v1+cell": {
     "cellMetadata": {},
     "inputWidgets": {},
     "nuid": "946c8cb2-582f-4d2c-8743-3348422d832a",
     "showTitle": false,
     "tableResultSettingsMap": {},
     "title": ""
    }
   },
   "outputs": [],
   "source": [
    "# ------------------------------------------------------ BOOKS ------------------------------------------------------\n",
    "# Silver table for cleaned Books data\n",
    "@dlt.table(name=f\"{silver_schema}.books_silver\", comment=\"Silver table for cleaned Books data\") \n",
    "@dlt.expect_or_drop(\"valid_isbn\", \"ISBN IS NOT NULL AND ISBN != ''\") # Missing ISBN or empty\n",
    "@dlt.expect_or_drop(\"valid_book_title\", \"`Book-Title` IS NOT NULL AND `Book-Title` != ''\") # Missing Title\n",
    "@dlt.expect_or_drop(\"valid_book_author\", \"`Book-Author` IS NOT NULL AND `Book-Author` != ''\") # Missing Author\n",
    "def books_silver():\n",
    "    return (spark.table(f\"{bronze_schema}.books_bronze\")\n",
    "            .withColumn(\"Year-Of-Publication\", \n",
    "                       when(col(\"Year-Of-Publication\").cast(\"int\").isNotNull(), # Cast to int\n",
    "                            col(\"Year-Of-Publication\").cast(\"int\"))\n",
    "                       .otherwise(None)) # If not int, set to None\n",
    "            .withColumn(\"Publisher\", \n",
    "                       when(col(\"Publisher\").isNotNull() & (col(\"Publisher\") != \"\"), \n",
    "                            trim(col(\"Publisher\")))\n",
    "                       .otherwise(\"Unknown\")) # If not string, set to Unknown\n",
    "            .withColumn(\"Book-Title\", trim(col(\"Book-Title\"))) # Trim Title\n",
    "            .withColumn(\"Book-Author\", trim(col(\"Book-Author\"))) # Trim Author\n",
    "            .withColumn(\"ISBN\", trim(col(\"ISBN\"))) # Trim ISBN\n",
    "            .withColumn(\"cleaned_ts\", current_timestamp())\n",
    "    )\n",
    "# Quarantine table for problematic Books data\n",
    "@dlt.table(name=f\"{silver_schema}.books_quarantine\", comment=\"Quarantine table for problematic Books data\")\n",
    "def books_quarantine():\n",
    "    return (spark.table(f\"{bronze_schema}.books_bronze\")\n",
    "            .filter((col(\"ISBN\").isNull()) | (col(\"ISBN\") == \"\") | # Missing ISBN or empty\n",
    "                   (col(\"Book-Title\").isNull()) | (col(\"Book-Title\") == \"\") | # Missing Title\n",
    "                   (col(\"Book-Author\").isNull()) | (col(\"Book-Author\") == \"\")) # Missing Author\n",
    "            .withColumn(\"quarantine_reason\", \n",
    "                       when((col(\"ISBN\").isNull()) | (col(\"ISBN\") == \"\"), \"Missing ISBN\") # Missing ISBN or empty\n",
    "                       .when((col(\"Book-Title\").isNull()) | (col(\"Book-Title\") == \"\"), \"Missing Title\") # Missing Title\n",
    "                       .when((col(\"Book-Author\").isNull()) | (col(\"Book-Author\") == \"\"), \"Missing Author\") # Missing Author\n",
    "                       .otherwise(\"Multiple Issues\")) # Multiple Issues\n",
    "            .withColumn(\"quarantine_ts\", current_timestamp()) # Add ingestion timestamp\n",
    "    )\n",
    "\n",
    "\n",
    "\n",
    "# ------------------------------------------------------ RATINGS ------------------------------------------------------\n",
    "# Silver table for cleaned Ratings data\n",
    "@dlt.table(name=f\"{silver_schema}.ratings_silver\", comment=\"Silver table for cleaned Ratings data\")\n",
    "@dlt.expect_or_drop(\"valid_user_id\", \"`User-ID` IS NOT NULL\") # Missing User ID\n",
    "@dlt.expect_or_drop(\"valid_isbn\", \"ISBN IS NOT NULL AND ISBN != ''\") # Missing ISBN or empty\n",
    "@dlt.expect_or_drop(\"valid_book_rating\", \"`Book-Rating` IS NOT NULL AND `Book-Rating` >= 0 AND `Book-Rating` <= 10\") # Invalid Rating\n",
    "def ratings_silver():\n",
    "    return (spark.table(f\"{bronze_schema}.ratings_bronze\")\n",
    "            .withColumn(\"Book-Rating\", \n",
    "                       when(col(\"Book-Rating\").cast(\"int\").isNotNull(), # Cast to int\n",
    "                            col(\"Book-Rating\").cast(\"int\"))\n",
    "                       .otherwise(None)) # If not int, set to None\n",
    "            .withColumn(\"ISBN\", trim(col(\"ISBN\"))) # Trim ISBN\n",
    "            .withColumn(\"cleaned_ts\", current_timestamp()) # Add ingestion timestamp\n",
    "    )\n",
    "# Quarantine table for problematic Ratings data\n",
    "@dlt.table(name=f\"{silver_schema}.ratings_quarantine\", comment=\"Quarantine table for problematic Ratings data\")\n",
    "def ratings_quarantine():\n",
    "    return (spark.table(f\"{bronze_schema}.ratings_bronze\")\n",
    "            .filter(\n",
    "                   (col(\"User-ID\").isNull()) | # Missing User ID \n",
    "                   (col(\"ISBN\").isNull()) | (col(\"ISBN\") == \"\") | # Missing ISBN or empty\n",
    "                   (col(\"Book-Rating\").isNull()) | # Missing Rating   \n",
    "                   (col(\"Book-Rating\") < 0) | (col(\"Book-Rating\") > 10) # Invalid Rating\n",
    "                   )\n",
    "            .withColumn(\"quarantine_reason\", \n",
    "                       when(col(\"User-ID\").isNull(), \"Missing User ID\") # Missing User ID\n",
    "                       .when((col(\"ISBN\").isNull()) | (col(\"ISBN\") == \"\"), \"Missing ISBN\") # Missing ISBN or empty\n",
    "                       .when(col(\"Book-Rating\").isNull(), \"Missing Rating\") # Missing Rating\n",
    "                       .when((col(\"Book-Rating\") < 0) | (col(\"Book-Rating\") > 10), \"Invalid Rating\") # Invalid Rating\n",
    "                       .otherwise(\"Multiple Issues\")) # Multiple Issues\n",
    "            .withColumn(\"quarantine_ts\", current_timestamp())\n",
    "    )\n",
    "\n",
    "\n",
    "# ------------------------------------------------------ USERS ------------------------------------------------------\n",
    "# Silver table for cleaned Users data\n",
    "@dlt.table(name=f\"{silver_schema}.users_silver\", comment=\"Silver table for cleaned Users data\")\n",
    "@dlt.expect_or_drop(\"valid_user_id\", \"`User-ID` IS NOT NULL\")\n",
    "def users_silver():\n",
    "    return (spark.table(f\"{bronze_schema}.users_bronze\")\n",
    "            .withColumn(\"Age\", \n",
    "                       when(col(\"Age\").cast(\"int\").isNotNull(), # Cast to int\n",
    "                            col(\"Age\").cast(\"int\"))\n",
    "                       .otherwise(None)) # If not int, set to None \n",
    "            .withColumn(\"Location\", \n",
    "                       when(col(\"Location\").isNotNull() & (col(\"Location\") != \"\"), \n",
    "                            trim(col(\"Location\")))\n",
    "                       .otherwise(\"Unknown\")) # If not string, set to Unknown\n",
    "            .withColumn(\"location_cleaned\", \n",
    "                       when(col(\"Location\") != \"Unknown\", # If not Unknown, replace / with ,\n",
    "                            regexp_replace(col(\"Location\"), r'(?<!n)/(?!a)', \", \"))\n",
    "                       .otherwise(\"Unknown\")) # If not string, set to Unknown\n",
    "            .withColumn(\"location_parts\", \n",
    "                       when(col(\"location_cleaned\") != \"Unknown\", # If not Unknown, split by ,\n",
    "                            split(col(\"location_cleaned\"), \",\"))\n",
    "                       .otherwise(array(lit(\"Unknown\")))) # If not string, set to Unknown\n",
    "            .withColumn(\"city\", \n",
    "                       when((size(col(\"location_parts\")) >= 1) & \n",
    "                            (trim(element_at(col(\"location_parts\"), 1)) != \"\"), \n",
    "                            initcap(trim(element_at(col(\"location_parts\"), 1))))\n",
    "                       .otherwise(\"Unknown\")) # If not string, set to Unknown\n",
    "            .withColumn(\"region\", \n",
    "                       when((size(col(\"location_parts\")) >= 2) & \n",
    "                            (trim(element_at(col(\"location_parts\"), 2)) != \"\"), \n",
    "                            initcap(trim(element_at(col(\"location_parts\"), 2))))\n",
    "                       .otherwise(\"Unknown\")) # If not string, set to Unknown\n",
    "            .withColumn(\"state\", \n",
    "                       when((size(col(\"location_parts\")) >= 3) & \n",
    "                            (trim(element_at(col(\"location_parts\"), 3)) != \"\"), \n",
    "                            initcap(trim(element_at(col(\"location_parts\"), 3))))\n",
    "                       .otherwise(\"Unknown\")) # If not string, set to Unknown\n",
    "            .drop(\"location_parts\", \"location_cleaned\") # Drop temporary columns\n",
    "            .withColumn(\"cleaned_ts\", current_timestamp()) # Add ingestion timestamp\n",
    "    )\n",
    "\n",
    "# Quarantine table for problematic Users data\n",
    "@dlt.table(name=f\"{silver_schema}.users_quarantine\", comment=\"Quarantine table for problematic Users data\")\n",
    "def users_quarantine():\n",
    "    return (spark.table(f\"{bronze_schema}.users_bronze\")\n",
    "            .filter(col(\"User-ID\").isNull()) # Missing User ID\n",
    "            .withColumn(\"quarantine_reason\", lit(\"Missing User ID\")) # Missing User ID\n",
    "            .withColumn(\"quarantine_ts\", current_timestamp()) # Add ingestion timestamp\n",
    "    )"
   ]
  }
 ],
 "metadata": {
  "application/vnd.databricks.v1+notebook": {
   "computePreferences": null,
   "dashboards": [],
   "environmentMetadata": {
    "base_environment": "",
    "environment_version": "2"
   },
   "inputWidgetPreferences": null,
   "language": "python",
   "notebookMetadata": {
    "pythonIndentUnit": 4
   },
   "notebookName": "silver_pipeline",
   "widgets": {}
  },
  "language_info": {
   "name": "python"
  }
 },
 "nbformat": 4,
 "nbformat_minor": 0
}
