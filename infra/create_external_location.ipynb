{
 "cells": [
  {
   "cell_type": "code",
   "execution_count": 0,
   "metadata": {
    "application/vnd.databricks.v1+cell": {
     "cellMetadata": {
      "byteLimit": 2048000,
      "implicitDf": true,
      "rowLimit": 10000
     },
     "inputWidgets": {},
     "nuid": "9a5c93f2-b134-4dfb-9763-02ce1acc2d7c",
     "showTitle": false,
     "tableResultSettingsMap": {},
     "title": ""
    }
   },
   "outputs": [],
   "source": [
    "%sql\n",
    "-- landing\n",
    "CREATE EXTERNAL LOCATION IF NOT EXISTS book_recc_location\n",
    "URL 'abfss://bookreccont@datasenticssa.dfs.core.windows.net/landing'\n",
    "WITH (STORAGE CREDENTIAL book_recc_cred)\n",
    "COMMENT 'External location: landing prefix';\n"
   ]
  },
  {
   "cell_type": "code",
   "execution_count": 0,
   "metadata": {
    "application/vnd.databricks.v1+cell": {
     "cellMetadata": {
      "byteLimit": 2048000,
      "implicitDf": true,
      "rowLimit": 10000
     },
     "inputWidgets": {},
     "nuid": "06101a01-b893-405f-bc98-fa4dd6a77012",
     "showTitle": false,
     "tableResultSettingsMap": {},
     "title": ""
    }
   },
   "outputs": [],
   "source": [
    "%sql\n",
    "\n",
    "-- uc-managed\n",
    "CREATE EXTERNAL LOCATION IF NOT EXISTS cat_rec_book\n",
    "URL 'abfss://bookreccont@datasenticssa.dfs.core.windows.net/uc-managed'\n",
    "WITH (STORAGE CREDENTIAL book_recc_cred)\n",
    "COMMENT 'External location: UC managed root';"
   ]
  }
 ],
 "metadata": {
  "application/vnd.databricks.v1+notebook": {
   "computePreferences": null,
   "dashboards": [],
   "environmentMetadata": {
    "base_environment": "",
    "environment_version": "2"
   },
   "inputWidgetPreferences": null,
   "language": "python",
   "notebookMetadata": {
    "mostRecentlyExecutedCommandWithImplicitDF": {
     "commandId": 8012959870852634,
     "dataframes": [
      "_sqldf"
     ]
    },
    "pythonIndentUnit": 4
   },
   "notebookName": "create_external_location",
   "widgets": {}
  },
  "language_info": {
   "name": "python"
  }
 },
 "nbformat": 4,
 "nbformat_minor": 0
}
